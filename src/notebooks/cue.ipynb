{
 "cells": [
  {
   "cell_type": "code",
   "execution_count": null,
   "id": "eb920068",
   "metadata": {},
   "outputs": [],
   "source": [
    "%reload_ext autoreload\n",
    "%autoreload 2\n",
    "\n",
    "from pathlib import Path\n",
    "import sys \n",
    "\n",
    "project_root = Path().cwd()\n",
    "scripts_dir = project_root / \"src\" / \"scripts\"\n",
    "sys.path.insert(0, str(scripts_dir))\n",
    "\n",
    "import numpy as np \n",
    "import scipy.stats as stats\n",
    "import scipy.io as io\n",
    "import os \n",
    "import matplotlib.pyplot as plt \n",
    "from matplotlib.lines import Line2D\n",
    "import seaborn as sns\n",
    "import process_2p as p2p\n",
    "import lick_behav_analysis as behav\n",
    "import classify_2p as c2p\n",
    "from scalebars import add_scalebar\n",
    "from scipy.stats import chi2_contingency\n",
    "\n",
    "\n",
    "\n",
    "#Recording parameters\n",
    "fps = 15\n",
    "framespertrial = 375 \n",
    "ms_per_frame = int(1000//fps)\n",
    "reward_frame = 150\n",
    "cue_frame = 105\n",
    "trials = 30"
   ]
  },
  {
   "cell_type": "code",
   "execution_count": null,
   "id": "b4a9a67b",
   "metadata": {},
   "outputs": [],
   "source": []
  },
  {
   "cell_type": "code",
   "execution_count": null,
   "id": "23c47d10",
   "metadata": {},
   "outputs": [],
   "source": []
  },
  {
   "cell_type": "code",
   "execution_count": null,
   "id": "abc7b0cb",
   "metadata": {},
   "outputs": [],
   "source": []
  },
  {
   "cell_type": "code",
   "execution_count": null,
   "id": "16ae7c95",
   "metadata": {},
   "outputs": [],
   "source": []
  },
  {
   "cell_type": "code",
   "execution_count": null,
   "id": "95f913de",
   "metadata": {},
   "outputs": [],
   "source": []
  }
 ],
 "metadata": {
  "language_info": {
   "name": "python"
  }
 },
 "nbformat": 4,
 "nbformat_minor": 5
}
