{
 "cells": [
  {
   "cell_type": "code",
   "execution_count": 1,
   "id": "46d3925c",
   "metadata": {},
   "outputs": [],
   "source": [
    "%reload_ext autoreload\n",
    "%autoreload 2\n",
    "\n",
    "from pathlib import Path\n",
    "import sys \n",
    "\n",
    "project_root = Path().cwd()\n",
    "scripts_dir = project_root / \"src\" / \"scripts\"\n",
    "sys.path.insert(0, str(scripts_dir))\n",
    "\n",
    "import numpy as np \n",
    "import scipy.stats as stats\n",
    "import scipy.io as sio\n",
    "import os \n",
    "import matplotlib.pyplot as plt \n",
    "import seaborn as sns\n",
    "import process_2p as p2p\n",
    "import lick_behav_analysis as behav\n",
    "\n",
    "# Recording parameters\n",
    "fps = 15\n",
    "framespertrial = 375 \n",
    "ms_per_frame = int(1000//fps)\n",
    "reward_frame = 150\n",
    "cue_frame = 105\n",
    "trials = 30\n",
    "cmap = \"bwr\""
   ]
  },
  {
   "cell_type": "code",
   "execution_count": null,
   "id": "aaf2b784",
   "metadata": {},
   "outputs": [],
   "source": [
    "folder = '/Users/savani/Downloads/2p_data/fasted sucrose sucralose'\n",
    "f_suc, f_w, base_suc, base_w, aligned_suc, aligned_w = p2p.process_2p_folder_mt(folder, n_trials = 50)"
   ]
  },
  {
   "cell_type": "code",
   "execution_count": null,
   "id": "58d6776d",
   "metadata": {},
   "outputs": [],
   "source": []
  },
  {
   "cell_type": "code",
   "execution_count": null,
   "id": "7ba43565",
   "metadata": {},
   "outputs": [],
   "source": []
  }
 ],
 "metadata": {
  "kernelspec": {
   "display_name": "Python 3 (ipykernel)",
   "language": "python",
   "name": "python3"
  },
  "language_info": {
   "codemirror_mode": {
    "name": "ipython",
    "version": 3
   },
   "file_extension": ".py",
   "mimetype": "text/x-python",
   "name": "python",
   "nbconvert_exporter": "python",
   "pygments_lexer": "ipython3",
   "version": "3.9.6"
  }
 },
 "nbformat": 4,
 "nbformat_minor": 5
}
