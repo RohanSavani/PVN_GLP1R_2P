{
 "cells": [
  {
   "cell_type": "code",
   "execution_count": 283,
   "id": "5502b824",
   "metadata": {},
   "outputs": [],
   "source": [
    "%reload_ext autoreload\n",
    "%autoreload 2\n",
    "\n",
    "from pathlib import Path\n",
    "import sys \n",
    "\n",
    "project_root = Path().cwd()\n",
    "scripts_dir = project_root / \"src\" / \"scripts\"\n",
    "sys.path.insert(0, str(scripts_dir))\n",
    "\n",
    "import numpy as np \n",
    "import scipy.stats as stats\n",
    "import scipy.io as io\n",
    "import os \n",
    "import matplotlib.pyplot as plt \n",
    "import seaborn as sns\n",
    "import process_2p as p2p\n",
    "import lick_behav_analysis as behav\n",
    "\n",
    "#Recording parameters\n",
    "fps = 15\n",
    "framespertrial = 375 \n",
    "ms_per_frame = int(1000//fps)\n",
    "reward_frame = 150\n",
    "cue_frame = 105\n",
    "trials = 30\n",
    "cmap= \"coolwarm\""
   ]
  },
  {
   "cell_type": "code",
   "execution_count": null,
   "id": "a451a693",
   "metadata": {},
   "outputs": [],
   "source": [
    "t = 1"
   ]
  },
  {
   "cell_type": "code",
   "execution_count": null,
   "id": "7f549e36",
   "metadata": {},
   "outputs": [],
   "source": [
    "# Load data\n",
    "f, iscell, ops = p2p.load_s2p_data(path)\n",
    "filt_f = p2p.filter_cells(f, iscell)\n",
    "filt_f_reshaped = p2p.reshape_data(filt_f)\n",
    "filt_f_norm = p2p.normalize_data(filt_f_reshaped)\n",
    "\n",
    "# Process behavior data\n",
    "bout_start, bout_end, bout_start_frames, bout_end_frames = behav.og_lickprocessing(matfile)\n",
    "successful_trial_idx = [i for i, x in enumerate(bout_start) if (x > 0) & (x < 5000)]\n",
    "successful_bout_start_frames = bout_start_frames[successful_trial_idx]\n",
    "\n",
    "# Combine lick data with imaging data\n",
    "successful_filt_f = filt_f_norm[:, successful_trial_idx, :]  \n",
    "filt_f_aligned = p2p.align_2p_to_licks(successful_filt_f, successful_bout_start_frames)\n",
    "\n",
    "# Get baseline data\n",
    "baseline_data = p2p.get_baseline_filt_f(successful_filt_f)\n",
    "\n",
    "# Average across trials\n",
    "avg_f = p2p.average_trials(filt_f_aligned)"
   ]
  },
  {
   "cell_type": "code",
   "execution_count": null,
   "id": "c1234cc9",
   "metadata": {},
   "outputs": [],
   "source": []
  },
  {
   "cell_type": "code",
   "execution_count": null,
   "id": "32b24adb",
   "metadata": {},
   "outputs": [],
   "source": []
  },
  {
   "cell_type": "code",
   "execution_count": null,
   "id": "8f6356cc",
   "metadata": {},
   "outputs": [],
   "source": []
  }
 ],
 "metadata": {
  "kernelspec": {
   "display_name": "Python 3 (ipykernel)",
   "language": "python",
   "name": "python3"
  }
 },
 "nbformat": 4,
 "nbformat_minor": 5
}
