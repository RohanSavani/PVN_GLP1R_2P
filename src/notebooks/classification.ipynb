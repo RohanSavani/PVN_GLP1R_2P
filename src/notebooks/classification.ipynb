{
 "cells": [
  {
   "cell_type": "code",
   "execution_count": 73,
   "id": "24d56c96",
   "metadata": {},
   "outputs": [],
   "source": [
    "%reload_ext autoreload\n",
    "%autoreload 2\n",
    "\n",
    "from pathlib import Path\n",
    "import sys \n",
    "\n",
    "project_root = Path().cwd()\n",
    "scripts_dir = project_root / \"src\" / \"scripts\"\n",
    "sys.path.insert(0, str(scripts_dir))\n",
    "\n",
    "import numpy as np \n",
    "import scipy.stats as stats\n",
    "import scipy.io as io\n",
    "import os \n",
    "import matplotlib.pyplot as plt \n",
    "from matplotlib.lines import Line2D\n",
    "import seaborn as sns\n",
    "import process_2p as p2p\n",
    "import lick_behav_analysis as behav\n",
    "import classify_2p as c2p\n",
    "import trackcells as t2p\n",
    "from scalebars import add_scalebar\n",
    "from scipy.stats import chi2_contingency\n",
    "import scipy.io as sio\n",
    "from sklearn.pipeline import Pipeline\n",
    "from sklearn.linear_model import LogisticRegression\n",
    "from sklearn.model_selection import cross_val_score\n",
    "from sklearn.svm import SVC\n",
    "from sklearn.model_selection import GridSearchCV, StratifiedKFold, StratifiedShuffleSplit\n",
    "from sklearn.preprocessing import StandardScaler\n",
    "from sklearn.utils import shuffle\n",
    "from sklearn.metrics import roc_auc_score, make_scorer\n",
    "from sklearn.metrics import accuracy_score\n",
    "from sklearn.decomposition import PCA\n",
    "from statsmodels.stats.multitest import multipletests\n",
    "\n"
   ]
  },
  {
   "cell_type": "code",
   "execution_count": 74,
   "id": "d6c468fb",
   "metadata": {},
   "outputs": [],
   "source": [
    "folder = '/Users/savani/Documents/PangLab/TwoPhotonAnalysis/src/data/fasted 30 sucrose'\n",
    "all_avg_f, all_baseline_data, all_aligned_f, all_f = p2p.process_2p_folder(folder, align = 'lick', success = 'success')\n",
    "folder = '/Users/savani/Documents/PangLab/TwoPhotonAnalysis/src/data/fed 30 sucrose'\n",
    "all_avg_fed, all_baseline_data_fed, all_aligned_fed, all_fed = p2p.process_2p_folder(folder, align = 'lick', success = 'success')"
   ]
  },
  {
   "cell_type": "code",
   "execution_count": 75,
   "id": "c6bb1f7e",
   "metadata": {},
   "outputs": [],
   "source": [
    "len(all_aligned_f)\n",
    "all_recordings = all_aligned_f + all_aligned_fed\n",
    "all_states = ['fasted'] * len(all_aligned_f) + ['fed'] * len(all_aligned_fed)"
   ]
  },
  {
   "cell_type": "code",
   "execution_count": 78,
   "id": "2439992a",
   "metadata": {},
   "outputs": [
    {
     "name": "stdout",
     "output_type": "stream",
     "text": [
      "Shuffle iteration 0/100\n",
      "Shuffle iteration 1/100\n",
      "Shuffle iteration 2/100\n",
      "Shuffle iteration 3/100\n",
      "Shuffle iteration 4/100\n",
      "Shuffle iteration 5/100\n",
      "Shuffle iteration 6/100\n",
      "Shuffle iteration 7/100\n",
      "Shuffle iteration 8/100\n",
      "Shuffle iteration 9/100\n",
      "Shuffle iteration 10/100\n",
      "Shuffle iteration 11/100\n",
      "Shuffle iteration 12/100\n",
      "Shuffle iteration 13/100\n",
      "Shuffle iteration 14/100\n",
      "Shuffle iteration 15/100\n",
      "Shuffle iteration 16/100\n",
      "Shuffle iteration 17/100\n",
      "Shuffle iteration 18/100\n",
      "Shuffle iteration 19/100\n",
      "Shuffle iteration 20/100\n",
      "Shuffle iteration 21/100\n",
      "Shuffle iteration 22/100\n",
      "Shuffle iteration 23/100\n",
      "Shuffle iteration 24/100\n",
      "Shuffle iteration 25/100\n",
      "Shuffle iteration 26/100\n",
      "Shuffle iteration 27/100\n",
      "Shuffle iteration 28/100\n",
      "Shuffle iteration 29/100\n",
      "Shuffle iteration 30/100\n",
      "Shuffle iteration 31/100\n",
      "Shuffle iteration 32/100\n",
      "Shuffle iteration 33/100\n",
      "Shuffle iteration 34/100\n",
      "Shuffle iteration 35/100\n",
      "Shuffle iteration 36/100\n",
      "Shuffle iteration 37/100\n",
      "Shuffle iteration 38/100\n",
      "Shuffle iteration 39/100\n",
      "Shuffle iteration 40/100\n",
      "Shuffle iteration 41/100\n",
      "Shuffle iteration 42/100\n",
      "Shuffle iteration 43/100\n",
      "Shuffle iteration 44/100\n",
      "Shuffle iteration 45/100\n",
      "Shuffle iteration 46/100\n",
      "Shuffle iteration 47/100\n",
      "Shuffle iteration 48/100\n"
     ]
    },
    {
     "name": "stderr",
     "output_type": "stream",
     "text": [
      "/Users/savani/Documents/PangLab/TwoPhotonAnalysis/analysis_env/lib/python3.9/site-packages/joblib/externals/loky/process_executor.py:782: UserWarning: A worker stopped while some jobs were given to the executor. This can be caused by a too short worker timeout or by a memory leak.\n",
      "  warnings.warn(\n"
     ]
    },
    {
     "name": "stdout",
     "output_type": "stream",
     "text": [
      "Shuffle iteration 49/100\n"
     ]
    },
    {
     "name": "stderr",
     "output_type": "stream",
     "text": [
      "/Users/savani/Documents/PangLab/TwoPhotonAnalysis/analysis_env/lib/python3.9/site-packages/joblib/externals/loky/process_executor.py:782: UserWarning: A worker stopped while some jobs were given to the executor. This can be caused by a too short worker timeout or by a memory leak.\n",
      "  warnings.warn(\n"
     ]
    },
    {
     "name": "stdout",
     "output_type": "stream",
     "text": [
      "Shuffle iteration 50/100\n"
     ]
    },
    {
     "name": "stderr",
     "output_type": "stream",
     "text": [
      "/Users/savani/Documents/PangLab/TwoPhotonAnalysis/analysis_env/lib/python3.9/site-packages/joblib/externals/loky/process_executor.py:782: UserWarning: A worker stopped while some jobs were given to the executor. This can be caused by a too short worker timeout or by a memory leak.\n",
      "  warnings.warn(\n"
     ]
    },
    {
     "name": "stdout",
     "output_type": "stream",
     "text": [
      "Shuffle iteration 51/100\n",
      "Shuffle iteration 52/100\n",
      "Shuffle iteration 53/100\n",
      "Shuffle iteration 54/100\n",
      "Shuffle iteration 55/100\n",
      "Shuffle iteration 56/100\n",
      "Shuffle iteration 57/100\n",
      "Shuffle iteration 58/100\n",
      "Shuffle iteration 59/100\n",
      "Shuffle iteration 60/100\n",
      "Shuffle iteration 61/100\n",
      "Shuffle iteration 62/100\n",
      "Shuffle iteration 63/100\n",
      "Shuffle iteration 64/100\n",
      "Shuffle iteration 65/100\n",
      "Shuffle iteration 66/100\n",
      "Shuffle iteration 67/100\n",
      "Shuffle iteration 68/100\n",
      "Shuffle iteration 69/100\n",
      "Shuffle iteration 70/100\n",
      "Shuffle iteration 71/100\n",
      "Shuffle iteration 72/100\n",
      "Shuffle iteration 73/100\n",
      "Shuffle iteration 74/100\n",
      "Shuffle iteration 75/100\n",
      "Shuffle iteration 76/100\n",
      "Shuffle iteration 77/100\n",
      "Shuffle iteration 78/100\n",
      "Shuffle iteration 79/100\n",
      "Shuffle iteration 80/100\n"
     ]
    },
    {
     "name": "stderr",
     "output_type": "stream",
     "text": [
      "/Users/savani/Documents/PangLab/TwoPhotonAnalysis/analysis_env/lib/python3.9/site-packages/joblib/externals/loky/process_executor.py:782: UserWarning: A worker stopped while some jobs were given to the executor. This can be caused by a too short worker timeout or by a memory leak.\n",
      "  warnings.warn(\n"
     ]
    },
    {
     "name": "stdout",
     "output_type": "stream",
     "text": [
      "Shuffle iteration 81/100\n",
      "Shuffle iteration 82/100\n",
      "Shuffle iteration 83/100\n",
      "Shuffle iteration 84/100\n",
      "Shuffle iteration 85/100\n"
     ]
    },
    {
     "name": "stderr",
     "output_type": "stream",
     "text": [
      "/Users/savani/Documents/PangLab/TwoPhotonAnalysis/analysis_env/lib/python3.9/site-packages/joblib/externals/loky/process_executor.py:782: UserWarning: A worker stopped while some jobs were given to the executor. This can be caused by a too short worker timeout or by a memory leak.\n",
      "  warnings.warn(\n"
     ]
    },
    {
     "name": "stdout",
     "output_type": "stream",
     "text": [
      "Shuffle iteration 86/100\n",
      "Shuffle iteration 87/100\n",
      "Shuffle iteration 88/100\n"
     ]
    },
    {
     "name": "stderr",
     "output_type": "stream",
     "text": [
      "/Users/savani/Documents/PangLab/TwoPhotonAnalysis/analysis_env/lib/python3.9/site-packages/joblib/externals/loky/process_executor.py:782: UserWarning: A worker stopped while some jobs were given to the executor. This can be caused by a too short worker timeout or by a memory leak.\n",
      "  warnings.warn(\n"
     ]
    },
    {
     "name": "stdout",
     "output_type": "stream",
     "text": [
      "Shuffle iteration 89/100\n",
      "Shuffle iteration 90/100\n",
      "Shuffle iteration 91/100\n",
      "Shuffle iteration 92/100\n",
      "Shuffle iteration 93/100\n",
      "Shuffle iteration 94/100\n",
      "Shuffle iteration 95/100\n",
      "Shuffle iteration 96/100\n",
      "Shuffle iteration 97/100\n",
      "Shuffle iteration 98/100\n",
      "Shuffle iteration 99/100\n"
     ]
    }
   ],
   "source": [
    "''''\n",
    "Features: Mean and max fluorescence in 3s window after first lick for each cell on each trial \n",
    "Response: State, 0 or 1 \n",
    "\n",
    "'''\n",
    "# Parameters\n",
    "fps = 15\n",
    "lick_frame = 75\n",
    "post_window_s = 2\n",
    "post_window_frames = int(post_window_s * fps)\n",
    "\n",
    "def extract_features(data_list, state_list):\n",
    "    X, y = [], []\n",
    "    for data, state in zip(data_list, state_list):\n",
    "        cells, trials, frames = data.shape\n",
    "\n",
    "        # Loop over trials\n",
    "        for t in range(trials):\n",
    "            trial_data = data[:, t, lick_frame:lick_frame + post_window_frames]\n",
    "            avg_vals = trial_data.mean(axis=1)\n",
    "            max_vals = trial_data.max(axis=1)\n",
    "            feat = np.vstack([avg_vals, max_vals]).T  # shape: [cells, 2]\n",
    "\n",
    "            X.append(feat)\n",
    "            y += [1 if state == 'fed' else 0] * cells\n",
    "\n",
    "    X = np.concatenate(X, axis=0)\n",
    "    y = np.array(y)\n",
    "    return X, y\n",
    "\n",
    "\n",
    "def decode_optimized(X, y, n_iter=100, n_jobs=3):\n",
    "    actual_acc = []\n",
    "    shuffle_acc = []\n",
    "\n",
    "    pipe = Pipeline([\n",
    "        ('scaler', StandardScaler()),\n",
    "        ('svc', SVC())\n",
    "    ])\n",
    "\n",
    "    param_grid = [\n",
    "        {'svc__kernel': ['linear'], 'svc__C': [0.01, 0.1, 1, 10]},\n",
    "        {'svc__kernel': ['rbf'], 'svc__C': [0.01, 0.1, 1, 10], 'svc__gamma': [0.01, 0.1, 1, 10]}\n",
    "    ]\n",
    "\n",
    "    skf_outer = StratifiedKFold(n_splits=10)\n",
    "\n",
    "    for i in range(n_iter):\n",
    "        print(f\"Shuffle iteration {i}/{n_iter}\")\n",
    "\n",
    "        # Subsample 90% of cells\n",
    "        n_samples = int(0.9 * len(X))\n",
    "        idx = np.random.choice(len(X), size=n_samples, replace=False)\n",
    "        X_sub, y_sub = X[idx], y[idx]\n",
    "\n",
    "        # GridSearchCV with pipeline and parallel jobs\n",
    "        clf = GridSearchCV(pipe, param_grid, cv=skf_outer, scoring='accuracy', n_jobs=n_jobs)\n",
    "        clf.fit(X_sub, y_sub)\n",
    "        actual_acc.append(clf.best_score_)\n",
    "\n",
    "        # Shuffle labels with new random state every iteration\n",
    "        y_shuf = shuffle(y_sub, random_state=None)\n",
    "        clf_shuf = GridSearchCV(pipe, param_grid, cv=skf_outer, scoring='accuracy', n_jobs=n_jobs)\n",
    "        clf_shuf.fit(X_sub, y_shuf)\n",
    "        shuffle_acc.append(clf_shuf.best_score_)\n",
    "\n",
    "    return np.array(actual_acc), np.array(shuffle_acc)\n",
    "\n",
    "# Run decoding\n",
    "X, y = extract_features(all_recordings, all_states)\n",
    "acc_real, acc_shuffled = decode_optimized(X,y)\n"
   ]
  },
  {
   "cell_type": "code",
   "execution_count": null,
   "id": "9e26424a",
   "metadata": {},
   "outputs": [
    {
     "name": "stdout",
     "output_type": "stream",
     "text": [
      "0.21\n"
     ]
    },
    {
     "data": {
      "image/png": "[encoded data removed]",
      "text/plain": [
       "<Figure size 640x480 with 1 Axes>"
      ]
     },
     "metadata": {},
     "output_type": "display_data"
    }
   ],
   "source": [
    "# p-value\n",
    "p_val = np.mean(acc_shuffled >= acc_real)\n",
    "print(p_val)\n",
    "\n",
    "plt.plot(sorted(acc_real), np.linspace(0, 100, len(acc_real)), label='SVC')\n",
    "plt.plot(sorted(acc_shuffled), np.linspace(0, 100, len(acc_shuffled)), label='Shuffled SVC', linestyle='--')\n",
    "\n",
    "plt.xlabel('Accuracy')\n",
    "plt.ylabel('% of ROIs')\n",
    "plt.grid(True)\n",
    "plt.legend()\n",
    "plt.tight_layout()\n",
    "plt.show()\n",
    "\n"
   ]
  },
  {
   "cell_type": "code",
   "execution_count": 90,
   "id": "f170ffd1",
   "metadata": {},
   "outputs": [
    {
     "data": {
      "text/plain": [
       "array([  1.,   2.,   3.,   4.,   5.,   6.,   7.,   8.,   9.,  10.,  11.,\n",
       "        12.,  13.,  14.,  15.,  16.,  17.,  18.,  19.,  20.,  21.,  22.,\n",
       "        23.,  24.,  25.,  26.,  27.,  28.,  29.,  30.,  31.,  32.,  33.,\n",
       "        34.,  35.,  36.,  37.,  38.,  39.,  40.,  41.,  42.,  43.,  44.,\n",
       "        45.,  46.,  47.,  48.,  49.,  50.,  51.,  52.,  53.,  54.,  55.,\n",
       "        56.,  57.,  58.,  59.,  60.,  61.,  62.,  63.,  64.,  65.,  66.,\n",
       "        67.,  68.,  69.,  70.,  71.,  72.,  73.,  74.,  75.,  76.,  77.,\n",
       "        78.,  79.,  80.,  81.,  82.,  83.,  84.,  85.,  86.,  87.,  88.,\n",
       "        89.,  90.,  91.,  92.,  93.,  94.,  95.,  96.,  97.,  98.,  99.,\n",
       "       100.])"
      ]
     },
     "execution_count": 90,
     "metadata": {},
     "output_type": "execute_result"
    }
   ],
   "source": [
    "cumulative_count2 = np.arange(1, len(acc_real) + 1) / len(acc_real) * 100\n",
    "cumulative_count2"
   ]
  },
  {
   "cell_type": "code",
   "execution_count": 91,
   "id": "9dc8309a",
   "metadata": {},
   "outputs": [],
   "source": [
    "df = pd.DataFrame({\n",
    "    'Actual_Accuracy': sorted(acc_real),\n",
    "    'Shuffled_Accuracy': sorted(acc_shuffled),\n",
    "    'Cumulative': cumulative_count2\n",
    "})\n",
    "df.to_csv('cumulative_accuracy_runs_prelim.csv', index=False)\n",
    "\n"
   ]
  },
  {
   "cell_type": "code",
   "execution_count": 2,
   "id": "d247c7c7",
   "metadata": {},
   "outputs": [
    {
     "name": "stdout",
     "output_type": "stream",
     "text": [
      "glp10_fasted_30suc_L170P800_560um_040724-005\n",
      "[3, 30, 21, 4, 7, 8, 12, 13, 14, 16, 20, 18, 19, 23, 24, 29, 28, 33, 0, 35, 37, 40, 42, 51, 55]\n",
      "glp17_fasted30suc_L150P800_565um-032\n",
      "[7, 6, 10, 12, 14, 13, 16, 15, 17, 21, 22, 18, 25, 23, 26, 8, 30, 29, 1, 35, 36, 37]\n",
      "glp23_fasted_30suc_L155P800_575um-20250205-113-selected\n",
      "[4, 5, 9, 12, 13, 14, 15, 17, 19, 20, 23, 25, 26]\n",
      "glp4_fasted_nocues_L180_p815_650um031124-003\n",
      "[2, 4, 3, 10, 11, 8, 13, 6, 16]\n",
      "glp6_fastedNoCues_L180_P815_600um-_-03092024-1421-084\n",
      "[30, 28, 0, 31, 6, 8, 10, 11, 14, 12, 18, 20, 19, 1, 23, 24, 25, 27, 26, 29, 33, 34, 36, 38, 40, 41, 42, 44, 43, 49, 51]\n",
      "glp10_fed_30suc_L170P800_560um_040924-025\n",
      "[0, 1, 2, 3, 4, 6, 8, 9, 10, 11, 12, 13, 14, 16, 19, 21, 22, 23, 24, 25, 27, 29, 31, 36, 38]\n",
      "glp17_fed30suc_L150P800_565um_0613-020\n",
      "[0, 1, 2, 7, 8, 9, 10, 11, 12, 13, 15, 16, 18, 20, 21, 22, 23, 25, 26, 27, 28, 29]\n",
      "glp23_fed_30suc_L155P800_575um-20250203-112\n",
      "[5, 6, 8, 9, 10, 11, 14, 15, 16, 20, 25, 26, 29]\n",
      "glp4_fedNoCues_L180_P815_650um-_03052024-1355-066\n",
      "[3, 4, 5, 6, 7, 8, 9, 10, 12]\n",
      "glp6_fedNoCues_L180P815_600um-03062024-1321-073\n",
      "[4, 5, 6, 9, 11, 14, 15, 17, 18, 19, 21, 22, 23, 24, 25, 26, 27, 28, 29, 31, 34, 35, 36, 37, 38, 39, 40, 41, 42, 45, 46]\n"
     ]
    }
   ],
   "source": [
    "fed_folder = '/Users/savani/Documents/PangLab/TwoPhotonAnalysis/src/data/fed 30 sucrose'\n",
    "fasted_folder = '/Users/savani/Documents/PangLab/TwoPhotonAnalysis/src/data/fasted 30 sucrose'\n",
    "roi_folder = '/Users/savani/Documents/PangLab/TwoPhotonAnalysis/src/data/roi files'\n",
    "all_avg_f, all_baseline_data, all_aligned_f, all_successful_f = t2p.process_2p_folder_tracked(fasted_folder, roi_folder, roi_name = 'fasted')\n",
    "all_avg_fed, all_baseline_data_fed, all_aligned_fed, all_successful_fed = t2p.process_2p_folder_tracked(fed_folder, roi_folder, roi_name = 'fed')\n",
    "\n"
   ]
  },
  {
   "cell_type": "code",
   "execution_count": 58,
   "id": "9fb65611",
   "metadata": {},
   "outputs": [
    {
     "name": "stdout",
     "output_type": "stream",
     "text": [
      "Processing mouse with 25 cells...\n",
      "Processing mouse with 22 cells...\n",
      "Processing mouse with 13 cells...\n",
      "Processing mouse with 9 cells...\n",
      "Processing mouse with 31 cells...\n"
     ]
    },
    {
     "data": {
      "image/png": "[encoded data removed]",
      "text/plain": [
       "<Figure size 800x500 with 1 Axes>"
      ]
     },
     "metadata": {},
     "output_type": "display_data"
    }
   ],
   "source": [
    "lick_frame = 75\n",
    "post_window_s = 2\n",
    "fps = 15\n",
    "post_window_frames = int(post_window_s * fps)\n",
    "frame_range = slice(lick_frame, lick_frame + post_window_frames)\n",
    "n_permutations = 1000\n",
    "cv = StratifiedShuffleSplit(n_splits=5, test_size=0.2, random_state=42)\n",
    "\n",
    "\n",
    "svc_grid = {\n",
    "    \"C\": [1e-3, 1e-2, 1e-1, 1, 10, 100, 1000],\n",
    "    \"kernel\": [\"linear\", \"rbf\"],\n",
    "    \"gamma\": [1e-3, 1e-2, 1e-1, 1, 10, 100, 1000]  # only used for 'rbf'\n",
    "}\n",
    "\n",
    "svc_grid = {\n",
    "    \"C\": [ 1e-2, 1e-1, 1, 10],\n",
    "    \"kernel\": [\"linear\", \"rbf\"],\n",
    "    \"gamma\": [1, 10, 100, 1000]  # only used for 'rbf'\n",
    "}\n",
    "\n",
    "# Initialize all results\n",
    "svc_accs, svc_aucs, svc_pvals = [], [], []\n",
    "svc_shuffled_accs = []  # store avg shuffled accuracy per neuron\n",
    "\n",
    "fasted_list = all_aligned_f\n",
    "fed_list = all_aligned_fed\n",
    "\n",
    "# Loop over mice\n",
    "for f_mouse, fe_mouse in zip(fasted_list, fed_list):\n",
    "    ncells = min(f_mouse.shape[0], fe_mouse.shape[0])\n",
    "    print(f\"Processing mouse with {ncells} cells...\")\n",
    "    for cell_idx in range(ncells):\n",
    "        f_data = f_mouse[cell_idx, :, frame_range].mean(axis=1) # avg across frames\n",
    "        fe_data = fe_mouse[cell_idx, :, frame_range].mean(axis=1)\n",
    "\n",
    "        X = np.concatenate([f_data, fe_data])[:, np.newaxis]\n",
    "        y = np.array([0]*len(f_data) + [1]*len(fe_data))\n",
    "\n",
    "        # Shuffle\n",
    "        X, y = shuffle(X, y, random_state=42)\n",
    "\n",
    "        # ----- SVC -----\n",
    "        svc = GridSearchCV(SVC(probability=True), svc_grid, cv=cv, scoring='accuracy', n_jobs=-1)\n",
    "        svc.fit(X, y)\n",
    "        svc_best = svc.best_estimator_\n",
    "\n",
    "        # Cross-validated accuracy and AUROC\n",
    "        accs = []\n",
    "        aucs = []\n",
    "        for train_idx, test_idx in cv.split(X, y):\n",
    "            X_train, X_test = X[train_idx], X[test_idx]\n",
    "            y_train, y_test = y[train_idx], y[test_idx]\n",
    "            svc_best.fit(X_train, y_train)\n",
    "            accs.append(svc_best.score(X_test, y_test))\n",
    "            aucs.append(roc_auc_score(y_test, svc_best.predict_proba(X_test)[:, 1]))\n",
    "\n",
    "        svc_acc = np.mean(accs)\n",
    "        svc_auc = np.mean(aucs)\n",
    "        svc_accs.append(svc_acc)\n",
    "        svc_aucs.append(svc_auc)\n",
    "\n",
    "        # Permutation test\n",
    "        perm_accs = []\n",
    "        for _ in range(n_permutations):\n",
    "            y_shuf = shuffle(y, random_state=None)\n",
    "            perm_fold_acc = []\n",
    "            for train_idx, test_idx in cv.split(X, y_shuf):\n",
    "                svc_best.fit(X[train_idx], y_shuf[train_idx])\n",
    "                perm_fold_acc.append(svc_best.score(X[test_idx], y_shuf[test_idx]))\n",
    "            perm_accs.append(np.mean(perm_fold_acc))\n",
    "        svc_pvals.append(np.mean(np.array(perm_accs) >= svc_acc))\n",
    "        svc_shuffled_accs.append(np.mean(perm_accs))  # ⬅ store mean permuted accuracy\n",
    "\n",
    "\n",
    "# ---- Cumulative Accuracy Plot ----\n",
    "plt.figure(figsize=(8, 5))\n",
    "\n",
    "# Actual SVC\n",
    "sorted_accs = np.sort([x for x in svc_accs if not np.isnan(x)])\n",
    "plt.plot(sorted_accs, np.linspace(0, 100, len(sorted_accs)), label='SVC')\n",
    "\n",
    "# Shuffled SVC\n",
    "sorted_shuf = np.sort([x for x in svc_shuffled_accs if not np.isnan(x)])\n",
    "plt.plot(sorted_shuf, np.linspace(0, 100, len(sorted_shuf)), label='Shuffled SVC', linestyle='--')\n",
    "\n",
    "plt.xlabel('Accuracy')\n",
    "plt.ylabel('% of ROIs')\n",
    "plt.grid(True)\n",
    "plt.legend()\n",
    "plt.tight_layout()\n",
    "plt.show()\n"
   ]
  },
  {
   "cell_type": "code",
   "execution_count": 67,
   "id": "1368ea68",
   "metadata": {},
   "outputs": [],
   "source": [
    "df = pd.DataFrame({\n",
    "    'Actual_Accuracy': sorted(svc_accs),\n",
    "    'Shuffled_Accuracy': sorted(svc_shuffled_accs),\n",
    "    'Cumulative': cumulative_count\n",
    "})\n",
    "df.to_csv('cumulative_accuracy.csv', index=False)\n",
    "\n"
   ]
  }
 ],
 "metadata": {
  "kernelspec": {
   "display_name": "Python 3 (ipykernel)",
   "language": "python",
   "name": "python3"
  }
 },
 "nbformat": 4,
 "nbformat_minor": 5
}
