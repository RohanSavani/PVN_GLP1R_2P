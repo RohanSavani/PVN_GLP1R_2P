{
 "cells": [
  {
   "cell_type": "code",
   "execution_count": null,
   "id": "4c53e45b",
   "metadata": {},
   "outputs": [],
   "source": [
    "%load_ext autoreload\n",
    "%autoreload 2\n",
    "\n",
    "from pathlib import Path\n",
    "import sys \n",
    "\n",
    "project_root = Path().cwd()\n",
    "scripts_dir = project_root / \"src\" / \"scripts\"\n",
    "sys.path.insert(0, str(scripts_dir))\n",
    "\n",
    "import numpy as np \n",
    "import scipy.stats as stats\n",
    "import scipy.io as io\n",
    "import os \n",
    "import matplotlib.pyplot as plt \n",
    "import seaborn as sns\n",
    "import process_2p as p2p\n",
    "\n",
    "#Recording parameters\n",
    "fps = 15\n",
    "framespertrial = 375 \n",
    "ms_per_frame = int(1000//fps)\n",
    "reward_frame = 150\n",
    "cue_frame = 105\n",
    "trials = 30\n",
    "cmap= \"coolwarm\"\n"
   ]
  },
  {
   "cell_type": "code",
   "execution_count": null,
   "id": "e6379220",
   "metadata": {},
   "outputs": [],
   "source": []
  },
  {
   "cell_type": "code",
   "execution_count": 167,
   "id": "e9cd868c",
   "metadata": {},
   "outputs": [],
   "source": [
    "path = '/Users/savani/Downloads/2p_data/glp23_fasted_30suc_L155P800_575um-20250205-113-selected/suite2p/plane0'"
   ]
  },
  {
   "cell_type": "code",
   "execution_count": null,
   "id": "8a0bc765",
   "metadata": {},
   "outputs": [],
   "source": [
    "f, fn, iscell, ops = "
   ]
  },
  {
   "cell_type": "code",
   "execution_count": null,
   "id": "1addcfab",
   "metadata": {},
   "outputs": [],
   "source": []
  },
  {
   "cell_type": "code",
   "execution_count": null,
   "id": "85b8abe3",
   "metadata": {},
   "outputs": [],
   "source": []
  },
  {
   "cell_type": "code",
   "execution_count": null,
   "id": "adc23027",
   "metadata": {},
   "outputs": [],
   "source": []
  }
 ],
 "metadata": {
  "kernelspec": {
   "display_name": "Python 3 (ipykernel)",
   "language": "python",
   "name": "python3"
  },
  "language_info": {
   "codemirror_mode": {
    "name": "ipython",
    "version": 3
   },
   "file_extension": ".py",
   "mimetype": "text/x-python",
   "name": "python",
   "nbconvert_exporter": "python",
   "pygments_lexer": "ipython3",
   "version": "3.9.6"
  }
 },
 "nbformat": 4,
 "nbformat_minor": 5
}
