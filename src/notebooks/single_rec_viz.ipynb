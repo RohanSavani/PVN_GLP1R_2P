{
 "cells": [
  {
   "cell_type": "code",
   "execution_count": 205,
   "id": "4c53e45b",
   "metadata": {},
   "outputs": [
    {
     "name": "stdout",
     "output_type": "stream",
     "text": [
      "The autoreload extension is already loaded. To reload it, use:\n",
      "  %reload_ext autoreload\n"
     ]
    }
   ],
   "source": [
    "%load_ext autoreload\n",
    "%autoreload 2\n",
    "\n",
    "from pathlib import Path\n",
    "import sys \n",
    "\n",
    "project_root = Path().cwd()\n",
    "scripts_dir = project_root / \"src\" / \"scripts\"\n",
    "sys.path.insert(0, str(scripts_dir))\n",
    "\n",
    "import numpy as np \n",
    "import scipy.stats as stats\n",
    "import scipy.io as io\n",
    "import os \n",
    "import matplotlib.pyplot as plt \n",
    "import seaborn as sns\n",
    "import process_2p as p2p\n",
    "import lick_behav_analysis as behav\n",
    "\n",
    "#Recording parameters\n",
    "fps = 15\n",
    "framespertrial = 375 \n",
    "ms_per_frame = int(1000//fps)\n",
    "reward_frame = 150\n",
    "cue_frame = 105\n",
    "trials = 30\n",
    "cmap= \"coolwarm\""
   ]
  },
  {
   "cell_type": "code",
   "execution_count": 200,
   "id": "e9cd868c",
   "metadata": {},
   "outputs": [],
   "source": [
    "path = '/Users/savani/Downloads/2p_data/GLP6_FastedNoCues_L180_P815_600um-_-03092024-1421-084/suite2p/plane0'"
   ]
  },
  {
   "cell_type": "code",
   "execution_count": null,
   "id": "8a0bc765",
   "metadata": {},
   "outputs": [],
   "source": [
    "# Load data\n",
    "f, iscell, ops = p2p.load_s2p_data(path)\n",
    "filt_f = p2p.filter_cells(f, iscell)\n",
    "filt_f_reshaped = p2p.reshape_data(filt_f)\n",
    "filt_f_norm = p2p.normalize_data(filt_f_reshaped)"
   ]
  },
  {
   "cell_type": "code",
   "execution_count": null,
   "id": "1addcfab",
   "metadata": {},
   "outputs": [],
   "source": [
    "# Process behavior data \n",
    "matfile = '/Users/savani/Downloads/2p_data/GLP6_FastedNoCues_L180_P815_600um-_-03092024-1421-084/GLP-6_fastedNocue_030924_0_6000_240309-155102.mat'\n",
    "bout_start, bout_end, bout_start_frames, bout_end_frames = behav.og_lickprocessing(matfile)\n",
    "\n",
    "\n"
   ]
  },
  {
   "cell_type": "code",
   "execution_count": null,
   "id": "85b8abe3",
   "metadata": {},
   "outputs": [],
   "source": []
  },
  {
   "cell_type": "code",
   "execution_count": null,
   "id": "adc23027",
   "metadata": {},
   "outputs": [],
   "source": []
  }
 ],
 "metadata": {
  "kernelspec": {
   "display_name": "Python 3 (ipykernel)",
   "language": "python",
   "name": "python3"
  },
  "language_info": {
   "codemirror_mode": {
    "name": "ipython",
    "version": 3
   },
   "file_extension": ".py",
   "mimetype": "text/x-python",
   "name": "python",
   "nbconvert_exporter": "python",
   "pygments_lexer": "ipython3",
   "version": "3.9.6"
  }
 },
 "nbformat": 4,
 "nbformat_minor": 5
}
